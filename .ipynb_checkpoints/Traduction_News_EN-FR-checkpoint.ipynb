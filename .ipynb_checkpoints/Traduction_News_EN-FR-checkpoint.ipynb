{
 "cells": [
  {
   "cell_type": "code",
   "execution_count": null,
   "metadata": {},
   "outputs": [],
   "source": [
    "import pandas as pd\n",
    "!pip install googletrans"
   ]
  },
  {
   "cell_type": "code",
   "execution_count": 40,
   "metadata": {},
   "outputs": [],
   "source": [
    "#loadDEFT2015()\n",
    "df_en = pd.read_pickle(\"data/SemEval_EN.p\")"
   ]
  },
  {
   "cell_type": "code",
   "execution_count": null,
   "metadata": {},
   "outputs": [],
   "source": [
    "#from googletrans import Translator\n",
    "\n",
    "#translator = Translator()\n",
    "\n",
    "#translated_text = translator.translate('hello.', src='en', dest='fr')\n",
    "#print(translated_text.text)\n"
   ]
  },
  {
   "cell_type": "code",
   "execution_count": null,
   "metadata": {},
   "outputs": [],
   "source": [
    "#df_fr['texte'] = translator.translate(df_en[0], dest='fr').text\n",
    "\n",
    "#print(translator.translate(x[0], dest='fr').text)\n",
    "#print(translator.translate(x[1], dest='fr').text)\n",
    "\n",
    "#for t in df_en[0]:\n",
    "   # translated_text = translator.translate('hello.', src='en', dest='fr')\n",
    "   # print(t)\n",
    "    #df_fr.append({'texte': }, ignore_index=True)\n",
    "#df_fr['sentiment'] = [translator.translate(x, dest='fr').text for x in df_en[1]]"
   ]
  },
  {
   "cell_type": "code",
   "execution_count": null,
   "metadata": {},
   "outputs": [],
   "source": [
    "import copy\n",
    "from googletrans import Translator\n",
    "\n",
    "df_fr = []\n",
    "for index, row in df_en.iterrows():\n",
    "    # REINITIALIZE THE API\n",
    "    translator = Translator()\n",
    "    newrow = copy.deepcopy(row)\n",
    "    try:\n",
    "        # translate the 'text' column\n",
    "        text_translated = translator.translate(row[0], dest='en')\n",
    "        newrow['text'] = text_translated.text\n",
    "        sentiment_translated = translator.translate(row[1], dest='en')\n",
    "        newrow['sentiment'] = sentiment_translated.text\n",
    "    except Exception as e:\n",
    "        print(str(e))\n",
    "        continue\n",
    "    df_fr.append(newrow)"
   ]
  }
 ],
 "metadata": {
  "kernelspec": {
   "display_name": "Python 3",
   "language": "python",
   "name": "python3"
  },
  "language_info": {
   "codemirror_mode": {
    "name": "ipython",
    "version": 3
   },
   "file_extension": ".py",
   "mimetype": "text/x-python",
   "name": "python",
   "nbconvert_exporter": "python",
   "pygments_lexer": "ipython3",
   "version": "3.7.1"
  }
 },
 "nbformat": 4,
 "nbformat_minor": 2
}
